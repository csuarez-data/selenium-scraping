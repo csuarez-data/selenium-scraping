{
 "cells": [
  {
   "cell_type": "markdown",
   "metadata": {},
   "source": [
    "## Skincare website scraper using selenium"
   ]
  },
  {
   "cell_type": "code",
   "execution_count": 1,
   "metadata": {},
   "outputs": [],
   "source": [
    "import pandas as pd\n",
    "from selenium import webdriver\n",
    "from lxml import etree\n",
    "import time\n",
    "from selenium.webdriver.common.action_chains import ActionChains\n",
    "from selenium.webdriver.common.keys import Keys\n",
    "from IPython.core.display import display, HTML"
   ]
  },
  {
   "cell_type": "code",
   "execution_count": 137,
   "metadata": {},
   "outputs": [],
   "source": [
    "options = webdriver.ChromeOptions()\n",
    "options.binary_location = \"C:/Program Files (x86)/Google/Chrome/Application/chrome.exe\""
   ]
  },
  {
   "cell_type": "code",
   "execution_count": 211,
   "metadata": {},
   "outputs": [
    {
     "data": {
      "text/html": [
       "<div>\n",
       "<style scoped>\n",
       "    .dataframe tbody tr th:only-of-type {\n",
       "        vertical-align: middle;\n",
       "    }\n",
       "\n",
       "    .dataframe tbody tr th {\n",
       "        vertical-align: top;\n",
       "    }\n",
       "\n",
       "    .dataframe thead th {\n",
       "        text-align: right;\n",
       "    }\n",
       "</style>\n",
       "<table border=\"1\" class=\"dataframe\">\n",
       "  <thead>\n",
       "    <tr style=\"text-align: right;\">\n",
       "      <th></th>\n",
       "      <th>Input</th>\n",
       "    </tr>\n",
       "  </thead>\n",
       "  <tbody>\n",
       "    <tr>\n",
       "      <td>0</td>\n",
       "      <td>moisturiser</td>\n",
       "    </tr>\n",
       "    <tr>\n",
       "      <td>1</td>\n",
       "      <td>masks &amp; exfoliators</td>\n",
       "    </tr>\n",
       "    <tr>\n",
       "      <td>2</td>\n",
       "      <td>serums</td>\n",
       "    </tr>\n",
       "    <tr>\n",
       "      <td>3</td>\n",
       "      <td>cleansers</td>\n",
       "    </tr>\n",
       "    <tr>\n",
       "      <td>4</td>\n",
       "      <td>eye cream</td>\n",
       "    </tr>\n",
       "    <tr>\n",
       "      <td>5</td>\n",
       "      <td>eye serum</td>\n",
       "    </tr>\n",
       "    <tr>\n",
       "      <td>6</td>\n",
       "      <td>acne &amp; blemish</td>\n",
       "    </tr>\n",
       "    <tr>\n",
       "      <td>7</td>\n",
       "      <td>night time</td>\n",
       "    </tr>\n",
       "    <tr>\n",
       "      <td>8</td>\n",
       "      <td>skin care tools</td>\n",
       "    </tr>\n",
       "    <tr>\n",
       "      <td>9</td>\n",
       "      <td>toners &amp; mists</td>\n",
       "    </tr>\n",
       "    <tr>\n",
       "      <td>10</td>\n",
       "      <td>SPF &amp; self tanners</td>\n",
       "    </tr>\n",
       "    <tr>\n",
       "      <td>11</td>\n",
       "      <td>lip care</td>\n",
       "    </tr>\n",
       "    <tr>\n",
       "      <td>12</td>\n",
       "      <td>neck</td>\n",
       "    </tr>\n",
       "  </tbody>\n",
       "</table>\n",
       "</div>"
      ],
      "text/plain": [
       "                  Input\n",
       "0           moisturiser\n",
       "1   masks & exfoliators\n",
       "2                serums\n",
       "3             cleansers\n",
       "4             eye cream\n",
       "5             eye serum\n",
       "6        acne & blemish\n",
       "7            night time\n",
       "8       skin care tools\n",
       "9        toners & mists\n",
       "10   SPF & self tanners\n",
       "11             lip care\n",
       "12                 neck"
      ]
     },
     "execution_count": 211,
     "metadata": {},
     "output_type": "execute_result"
    }
   ],
   "source": [
    "#Define product list that you want to input into website search\n",
    "product_list = pd.read_csv('data/skincare_list.csv')\n",
    "product_list"
   ]
  },
  {
   "cell_type": "markdown",
   "metadata": {},
   "source": [
    "### First scraper takes pre-defined list to input into website, scrape main page for product + brand"
   ]
  },
  {
   "cell_type": "code",
   "execution_count": 139,
   "metadata": {},
   "outputs": [],
   "source": [
    "driver = webdriver.Chrome(executable_path='C:/Users/csuar/Documents/chromedriver/chromedriver.exe',options=options)"
   ]
  },
  {
   "cell_type": "code",
   "execution_count": 140,
   "metadata": {},
   "outputs": [],
   "source": [
    "product_types = []\n",
    "product_names = []\n",
    "brand_names = []"
   ]
  },
  {
   "cell_type": "code",
   "execution_count": 141,
   "metadata": {},
   "outputs": [],
   "source": [
    "for item in product_list['Input'][:2]:\n",
    "    try:\n",
    "        #\n",
    "        url = 'https://www.cultbeauty.co.uk/'\n",
    "        driver.get(url)\n",
    "        time.sleep(2)\n",
    "\n",
    "        input_box=driver.find_element_by_xpath('//input[@class=\"js-search-input\"]')\n",
    "        input_box.clear()\n",
    "        input_box.send_keys(item)\n",
    "        time.sleep(2)\n",
    "\n",
    "        driver.find_element_by_xpath('//input[@class=\"js-search-input\"]').send_keys(Keys.RETURN)\n",
    "\n",
    "        time.sleep(2)\n",
    "\n",
    "        html = etree.HTML(driver.page_source)\n",
    "\n",
    "        product_name = html.xpath('//h3[@class=\"productGridTitle\"]//text()')\n",
    "        brand_name = html.xpath('//div[@class=\"productGridBrandTitle\"]//span//text()')\n",
    "        \n",
    "        for i in product_name:\n",
    "            product_types.append(item)\n",
    "            \n",
    "        product_names.extend(product_name)\n",
    "        brand_names.extend(brand_name)\n",
    "        \n",
    "        time.sleep(2)\n",
    "\n",
    "        if len(product_names) % 1 == 0:\n",
    "            listing = pd.DataFrame({'Product':product_names,'Brand':brand_names,'Type':product_types})\n",
    "        \n",
    "    except:\n",
    "        None"
   ]
  },
  {
   "cell_type": "code",
   "execution_count": 290,
   "metadata": {},
   "outputs": [
    {
     "data": {
      "text/html": [
       "<div>\n",
       "<style scoped>\n",
       "    .dataframe tbody tr th:only-of-type {\n",
       "        vertical-align: middle;\n",
       "    }\n",
       "\n",
       "    .dataframe tbody tr th {\n",
       "        vertical-align: top;\n",
       "    }\n",
       "\n",
       "    .dataframe thead th {\n",
       "        text-align: right;\n",
       "    }\n",
       "</style>\n",
       "<table border=\"1\" class=\"dataframe\">\n",
       "  <thead>\n",
       "    <tr style=\"text-align: right;\">\n",
       "      <th></th>\n",
       "      <th>Product</th>\n",
       "      <th>Brand</th>\n",
       "      <th>Type</th>\n",
       "      <th>product+brand</th>\n",
       "      <th>Input</th>\n",
       "    </tr>\n",
       "  </thead>\n",
       "  <tbody>\n",
       "    <tr>\n",
       "      <td>0</td>\n",
       "      <td>Vitamin B, C and E Moisturizer</td>\n",
       "      <td>THE INKEY LIST</td>\n",
       "      <td>moisturiser</td>\n",
       "      <td>Vitamin B, C and E Moisturizer, THE INKEY LIST</td>\n",
       "      <td>Vitamin B, C and E Moisturizer, THE INKEY LIST</td>\n",
       "    </tr>\n",
       "    <tr>\n",
       "      <td>1</td>\n",
       "      <td>Dew Point Moisturizing Gel-Cream</td>\n",
       "      <td>Versed</td>\n",
       "      <td>moisturiser</td>\n",
       "      <td>Dew Point Moisturizing Gel-Cream, Versed</td>\n",
       "      <td>Dew Point Moisturizing Gel-Cream, Versed</td>\n",
       "    </tr>\n",
       "    <tr>\n",
       "      <td>2</td>\n",
       "      <td>Rose Deep Hydration Face Cream</td>\n",
       "      <td>fresh</td>\n",
       "      <td>moisturiser</td>\n",
       "      <td>Rose Deep Hydration Face Cream, fresh</td>\n",
       "      <td>Rose Deep Hydration Face Cream, fresh</td>\n",
       "    </tr>\n",
       "    <tr>\n",
       "      <td>3</td>\n",
       "      <td>Natural Moisturizing Factors + HA</td>\n",
       "      <td>The Ordinary</td>\n",
       "      <td>moisturiser</td>\n",
       "      <td>Natural Moisturizing Factors + HA, The Ordinary</td>\n",
       "      <td>Natural Moisturizing Factors + HA, The Ordinary</td>\n",
       "    </tr>\n",
       "    <tr>\n",
       "      <td>4</td>\n",
       "      <td>Peptide Moisturiser</td>\n",
       "      <td>THE INKEY LIST</td>\n",
       "      <td>moisturiser</td>\n",
       "      <td>Peptide Moisturiser, THE INKEY LIST</td>\n",
       "      <td>Peptide Moisturiser, THE INKEY LIST</td>\n",
       "    </tr>\n",
       "  </tbody>\n",
       "</table>\n",
       "</div>"
      ],
      "text/plain": [
       "                             Product           Brand         Type  \\\n",
       "0     Vitamin B, C and E Moisturizer  THE INKEY LIST  moisturiser   \n",
       "1   Dew Point Moisturizing Gel-Cream          Versed  moisturiser   \n",
       "2     Rose Deep Hydration Face Cream           fresh  moisturiser   \n",
       "3  Natural Moisturizing Factors + HA    The Ordinary  moisturiser   \n",
       "4                Peptide Moisturiser  THE INKEY LIST  moisturiser   \n",
       "\n",
       "                                     product+brand  \\\n",
       "0   Vitamin B, C and E Moisturizer, THE INKEY LIST   \n",
       "1         Dew Point Moisturizing Gel-Cream, Versed   \n",
       "2            Rose Deep Hydration Face Cream, fresh   \n",
       "3  Natural Moisturizing Factors + HA, The Ordinary   \n",
       "4              Peptide Moisturiser, THE INKEY LIST   \n",
       "\n",
       "                                             Input  \n",
       "0   Vitamin B, C and E Moisturizer, THE INKEY LIST  \n",
       "1         Dew Point Moisturizing Gel-Cream, Versed  \n",
       "2            Rose Deep Hydration Face Cream, fresh  \n",
       "3  Natural Moisturizing Factors + HA, The Ordinary  \n",
       "4              Peptide Moisturiser, THE INKEY LIST  "
      ]
     },
     "execution_count": 290,
     "metadata": {},
     "output_type": "execute_result"
    }
   ],
   "source": [
    "listing.head()"
   ]
  },
  {
   "cell_type": "code",
   "execution_count": 183,
   "metadata": {},
   "outputs": [],
   "source": [
    "listing['Input'] = listing['Product'].astype('str') + \", \" + listing['Brand'].astype('str')"
   ]
  },
  {
   "cell_type": "code",
   "execution_count": 212,
   "metadata": {},
   "outputs": [
    {
     "data": {
      "text/plain": [
       "2133"
      ]
     },
     "execution_count": 212,
     "metadata": {},
     "output_type": "execute_result"
    }
   ],
   "source": [
    "len(listing)"
   ]
  },
  {
   "cell_type": "code",
   "execution_count": 289,
   "metadata": {},
   "outputs": [],
   "source": [
    "#Duplicates located in list, drop these"
   ]
  },
  {
   "cell_type": "code",
   "execution_count": 203,
   "metadata": {},
   "outputs": [],
   "source": [
    "listing1 = listing.drop_duplicates(subset=['Input'])"
   ]
  },
  {
   "cell_type": "code",
   "execution_count": 213,
   "metadata": {},
   "outputs": [
    {
     "data": {
      "text/plain": [
       "1779"
      ]
     },
     "execution_count": 213,
     "metadata": {},
     "output_type": "execute_result"
    }
   ],
   "source": [
    "len(listing1)"
   ]
  },
  {
   "cell_type": "markdown",
   "metadata": {},
   "source": [
    "### Using scraped initial list, scrape individual products with details from individual product page"
   ]
  },
  {
   "cell_type": "code",
   "execution_count": 129,
   "metadata": {},
   "outputs": [],
   "source": [
    "driver = webdriver.Chrome(executable_path='C:/Users/csuar/Documents/chromedriver/chromedriver.exe',options=options)"
   ]
  },
  {
   "cell_type": "code",
   "execution_count": 172,
   "metadata": {},
   "outputs": [],
   "source": [
    "input_products = []\n",
    "descriptions = []\n",
    "how_to_uses = []\n",
    "ingredients = []\n",
    "reviews = []\n",
    "ratings = []\n",
    "images = []\n",
    "brand_names = []\n",
    "item_names = []"
   ]
  },
  {
   "cell_type": "code",
   "execution_count": 173,
   "metadata": {},
   "outputs": [],
   "source": [
    "for item in listing['product+brand'][:50]:\n",
    "    try:\n",
    "        url = 'https://www.cultbeauty.co.uk/'\n",
    "        driver.get(url)\n",
    "        time.sleep(2)\n",
    "\n",
    "        input_box=driver.find_element_by_xpath('//input[@class=\"js-search-input\"]')\n",
    "        input_box.clear()\n",
    "        input_box.send_keys(item)\n",
    "        time.sleep(2)\n",
    "\n",
    "        driver.find_element_by_xpath('//input[@class=\"js-search-input\"]').send_keys(Keys.RETURN)\n",
    "\n",
    "        time.sleep(2)\n",
    "\n",
    "        product_click=driver.find_element_by_xpath('//div[@data-rk=\"0\"]')\n",
    "        product_click.click()\n",
    "        time.sleep(2)\n",
    "\n",
    "        html = etree.HTML(driver.page_source)\n",
    "\n",
    "        open_description=driver.find_element_by_xpath('//span[@data-name=\"description\"]')\n",
    "        open_description.click()\n",
    "        time.sleep(2)\n",
    "\n",
    "        open_how_to_use=driver.find_element_by_xpath('//span[@data-name=\"how-to-use\"]')\n",
    "        open_description.click()\n",
    "        time.sleep(2)\n",
    "\n",
    "        open_ingredients=driver.find_element_by_xpath('//span[@data-name=\"ingredients\"]')\n",
    "        open_description.click()\n",
    "        time.sleep(2)\n",
    "\n",
    "        item_name = html.xpath('//div[@class=\"productTitle\"]//text()')\n",
    "        brand_name = html.xpath('//div[@class=\"productBrandTitle\"]//text()')\n",
    "        description = html.xpath('//li[2]//div[2]//text()')\n",
    "        how_to_use = html.xpath('//li[3]//div[2]//text()')\n",
    "        ingredient = html.xpath('//li[4]//div[2]//text()')\n",
    "        review = html.xpath('//div[@class=\"reviewCount\"]//a//text()')[0]\n",
    "        image = driver.find_element_by_xpath('//img[@class=\"js-big-image\"]').get_attribute(\"src\")\n",
    "\n",
    "        time.sleep(2)\n",
    "\n",
    "        input_products.append(item)\n",
    "        \n",
    "        if len(item_name)<1:\n",
    "            item_names.append('blank')\n",
    "        else:\n",
    "            item_names.append(item_name)\n",
    "\n",
    "        if len(brand_name)<1:\n",
    "            brand_names.append('blank')\n",
    "        else:\n",
    "            brand_names.append(brand_name)\n",
    "    \n",
    "        if len(description)<1:\n",
    "            descriptions.append('blank')\n",
    "        else:\n",
    "            descriptions.append(description)\n",
    "    \n",
    "        if len(how_to_use)<1:\n",
    "            how_to_uses.append('blank')\n",
    "        else:\n",
    "            how_to_uses.append(how_to_use)\n",
    "    \n",
    "        if len(ingredient)<1:\n",
    "            ingredients.append('blank')\n",
    "        else:\n",
    "            ingredients.append(ingredient)\n",
    "\n",
    "        if len(image)<1:\n",
    "            images.append('blank')\n",
    "        else:\n",
    "            images.append(image)\n",
    "    \n",
    "        if len(review)<1:\n",
    "            reviews.append('blank')\n",
    "        else:\n",
    "            reviews.append(review)\n",
    "        \n",
    "        time.sleep(1)\n",
    "        \n",
    "    except:\n",
    "        None"
   ]
  },
  {
   "cell_type": "code",
   "execution_count": 174,
   "metadata": {},
   "outputs": [],
   "source": [
    "final_list = pd.DataFrame({'Input':input_products,'Product':item_names,'Brand':brand_names,\n",
    "                           'Description':descriptions,'How to use':how_to_uses,\n",
    "                          'Ingredients':ingredients,'Reviews':reviews,'Image':images})"
   ]
  },
  {
   "cell_type": "code",
   "execution_count": 197,
   "metadata": {},
   "outputs": [
    {
     "data": {
      "text/html": [
       "<div>\n",
       "<style scoped>\n",
       "    .dataframe tbody tr th:only-of-type {\n",
       "        vertical-align: middle;\n",
       "    }\n",
       "\n",
       "    .dataframe tbody tr th {\n",
       "        vertical-align: top;\n",
       "    }\n",
       "\n",
       "    .dataframe thead th {\n",
       "        text-align: right;\n",
       "    }\n",
       "</style>\n",
       "<table border=\"1\" class=\"dataframe\">\n",
       "  <thead>\n",
       "    <tr style=\"text-align: right;\">\n",
       "      <th></th>\n",
       "      <th>Input</th>\n",
       "      <th>Product</th>\n",
       "      <th>Brand</th>\n",
       "      <th>Description</th>\n",
       "      <th>How to use</th>\n",
       "      <th>Ingredients</th>\n",
       "      <th>Reviews</th>\n",
       "      <th>Image</th>\n",
       "    </tr>\n",
       "  </thead>\n",
       "  <tbody>\n",
       "    <tr>\n",
       "      <td>0</td>\n",
       "      <td>Blue Light Protection and Hydration Mist, One ...</td>\n",
       "      <td>[Blue Light Protection and Hydration Mist]</td>\n",
       "      <td>[One Ocean Beauty]</td>\n",
       "      <td>[An innovative must-have for the 21st century ...</td>\n",
       "      <td>[Close the eyes and spritz the face 3 times a ...</td>\n",
       "      <td>[\\n                    , \\n                   ...</td>\n",
       "      <td>Write a Review</td>\n",
       "      <td>https://cdn.cultbeauty.co.uk/resized/680x854/s...</td>\n",
       "    </tr>\n",
       "    <tr>\n",
       "      <td>1</td>\n",
       "      <td>Aloe + Immortelle Hydra-Repair Treatment Mist ...</td>\n",
       "      <td>[Aloe + Immortelle Hydra-Repair Treatment Mist ]</td>\n",
       "      <td>[Odacite]</td>\n",
       "      <td>[An effective and innovative way to infuse ski...</td>\n",
       "      <td>[Use before applying your oil, serum or moistu...</td>\n",
       "      <td>[\\n                    , \\n                   ...</td>\n",
       "      <td>4</td>\n",
       "      <td>https://cdn.cultbeauty.co.uk/resized/680x854/s...</td>\n",
       "    </tr>\n",
       "    <tr>\n",
       "      <td>2</td>\n",
       "      <td>Rose + Neroli Hydra-Vitalizing Treatment Mist,...</td>\n",
       "      <td>[Rose + Neroli Hydra-Vitalizing Treatment Mist]</td>\n",
       "      <td>[Odacite]</td>\n",
       "      <td>[If your skin’s a bit confused, congested or l...</td>\n",
       "      <td>[Use as a toner after cleansing your skin or a...</td>\n",
       "      <td>[\\n                    , \\n                   ...</td>\n",
       "      <td>5</td>\n",
       "      <td>https://cdn.cultbeauty.co.uk/resized/680x854/s...</td>\n",
       "    </tr>\n",
       "    <tr>\n",
       "      <td>3</td>\n",
       "      <td>Watermelon Glow PHA + BHA Pore-Tight Toner Hom...</td>\n",
       "      <td>[Banana Soufflé Moisture Cream Home &amp; Away Kit]</td>\n",
       "      <td>[Glow Recipe]</td>\n",
       "      <td>[Boasting a 10% saving and housing a full size...</td>\n",
       "      <td>[After serum, smooth a dime-sized amount onto ...</td>\n",
       "      <td>[\\n                    , \\n                   ...</td>\n",
       "      <td>1</td>\n",
       "      <td>https://cdn.cultbeauty.co.uk/resized/680x854/s...</td>\n",
       "    </tr>\n",
       "    <tr>\n",
       "      <td>4</td>\n",
       "      <td>No Bad Days, Saturday Skin</td>\n",
       "      <td>[No Bad Days]</td>\n",
       "      <td>[Saturday Skin]</td>\n",
       "      <td>[Prepare yourself for the dreaded ‘winter skin...</td>\n",
       "      <td>[Rub-A-Dub Refining Peel Gel, Cleanse and then...</td>\n",
       "      <td>[\\n                    , \\n                   ...</td>\n",
       "      <td>10</td>\n",
       "      <td>https://cdn.cultbeauty.co.uk/resized/680x854/s...</td>\n",
       "    </tr>\n",
       "  </tbody>\n",
       "</table>\n",
       "</div>"
      ],
      "text/plain": [
       "                                               Input  \\\n",
       "0  Blue Light Protection and Hydration Mist, One ...   \n",
       "1  Aloe + Immortelle Hydra-Repair Treatment Mist ...   \n",
       "2  Rose + Neroli Hydra-Vitalizing Treatment Mist,...   \n",
       "3  Watermelon Glow PHA + BHA Pore-Tight Toner Hom...   \n",
       "4                         No Bad Days, Saturday Skin   \n",
       "\n",
       "                                            Product               Brand  \\\n",
       "0        [Blue Light Protection and Hydration Mist]  [One Ocean Beauty]   \n",
       "1  [Aloe + Immortelle Hydra-Repair Treatment Mist ]           [Odacite]   \n",
       "2   [Rose + Neroli Hydra-Vitalizing Treatment Mist]           [Odacite]   \n",
       "3   [Banana Soufflé Moisture Cream Home & Away Kit]       [Glow Recipe]   \n",
       "4                                     [No Bad Days]     [Saturday Skin]   \n",
       "\n",
       "                                         Description  \\\n",
       "0  [An innovative must-have for the 21st century ...   \n",
       "1  [An effective and innovative way to infuse ski...   \n",
       "2  [If your skin’s a bit confused, congested or l...   \n",
       "3  [Boasting a 10% saving and housing a full size...   \n",
       "4  [Prepare yourself for the dreaded ‘winter skin...   \n",
       "\n",
       "                                          How to use  \\\n",
       "0  [Close the eyes and spritz the face 3 times a ...   \n",
       "1  [Use before applying your oil, serum or moistu...   \n",
       "2  [Use as a toner after cleansing your skin or a...   \n",
       "3  [After serum, smooth a dime-sized amount onto ...   \n",
       "4  [Rub-A-Dub Refining Peel Gel, Cleanse and then...   \n",
       "\n",
       "                                         Ingredients         Reviews  \\\n",
       "0  [\\n                    , \\n                   ...  Write a Review   \n",
       "1  [\\n                    , \\n                   ...               4   \n",
       "2  [\\n                    , \\n                   ...               5   \n",
       "3  [\\n                    , \\n                   ...               1   \n",
       "4  [\\n                    , \\n                   ...              10   \n",
       "\n",
       "                                               Image  \n",
       "0  https://cdn.cultbeauty.co.uk/resized/680x854/s...  \n",
       "1  https://cdn.cultbeauty.co.uk/resized/680x854/s...  \n",
       "2  https://cdn.cultbeauty.co.uk/resized/680x854/s...  \n",
       "3  https://cdn.cultbeauty.co.uk/resized/680x854/s...  \n",
       "4  https://cdn.cultbeauty.co.uk/resized/680x854/s...  "
      ]
     },
     "execution_count": 197,
     "metadata": {},
     "output_type": "execute_result"
    }
   ],
   "source": [
    "final_list.head()"
   ]
  },
  {
   "cell_type": "markdown",
   "metadata": {},
   "source": [
    "### Cleaning of final data frame"
   ]
  },
  {
   "cell_type": "code",
   "execution_count": 179,
   "metadata": {},
   "outputs": [],
   "source": [
    "frames = [cb_scrape_1,cb_scrape_2,cb_scrape_3,cb_scrape_4]"
   ]
  },
  {
   "cell_type": "code",
   "execution_count": 180,
   "metadata": {},
   "outputs": [],
   "source": [
    "final_df = pd.concat(frames)"
   ]
  },
  {
   "cell_type": "code",
   "execution_count": 182,
   "metadata": {},
   "outputs": [
    {
     "data": {
      "text/plain": [
       "2034"
      ]
     },
     "execution_count": 182,
     "metadata": {},
     "output_type": "execute_result"
    }
   ],
   "source": [
    "len(final_df)"
   ]
  },
  {
   "cell_type": "code",
   "execution_count": 188,
   "metadata": {},
   "outputs": [
    {
     "data": {
      "text/plain": [
       "2133"
      ]
     },
     "execution_count": 188,
     "metadata": {},
     "output_type": "execute_result"
    }
   ],
   "source": [
    "len(listing)"
   ]
  },
  {
   "cell_type": "code",
   "execution_count": 245,
   "metadata": {},
   "outputs": [],
   "source": [
    "export_list = pd.merge(listing1,final_df,on='Input',how='left',)"
   ]
  },
  {
   "cell_type": "code",
   "execution_count": 206,
   "metadata": {},
   "outputs": [
    {
     "data": {
      "text/plain": [
       "2111"
      ]
     },
     "execution_count": 206,
     "metadata": {},
     "output_type": "execute_result"
    }
   ],
   "source": [
    "len(export_list)"
   ]
  },
  {
   "cell_type": "code",
   "execution_count": 246,
   "metadata": {},
   "outputs": [],
   "source": [
    "export_list1 = export_list.drop_duplicates(subset=['Input'])"
   ]
  },
  {
   "cell_type": "code",
   "execution_count": 208,
   "metadata": {},
   "outputs": [
    {
     "data": {
      "text/plain": [
       "1779"
      ]
     },
     "execution_count": 208,
     "metadata": {},
     "output_type": "execute_result"
    }
   ],
   "source": [
    "len(export_list1)"
   ]
  },
  {
   "cell_type": "code",
   "execution_count": 283,
   "metadata": {},
   "outputs": [],
   "source": [
    "export_list1.to_csv('Final_List_CB.csv')"
   ]
  },
  {
   "cell_type": "code",
   "execution_count": null,
   "metadata": {},
   "outputs": [],
   "source": [
    "export_list1['Ingredients_formatted'] = export_list1['Ingredients'].str.split(\"',\").str[3:]"
   ]
  },
  {
   "cell_type": "code",
   "execution_count": null,
   "metadata": {},
   "outputs": [],
   "source": [
    "pd.options.mode.chained_assignment = None  # default='warn'"
   ]
  }
 ],
 "metadata": {
  "kernelspec": {
   "display_name": "Python 3",
   "language": "python",
   "name": "python3"
  },
  "language_info": {
   "codemirror_mode": {
    "name": "ipython",
    "version": 3
   },
   "file_extension": ".py",
   "mimetype": "text/x-python",
   "name": "python",
   "nbconvert_exporter": "python",
   "pygments_lexer": "ipython3",
   "version": "3.8.5"
  }
 },
 "nbformat": 4,
 "nbformat_minor": 2
}
